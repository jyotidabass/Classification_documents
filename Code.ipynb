{
 "cells": [
  {
   "cell_type": "markdown",
   "metadata": {},
   "source": [
    "# Document Classification Approach"
   ]
  },
  {
   "cell_type": "markdown",
   "metadata": {},
   "source": [
    "**This code helps to build different classification model to classify documents to different classes. In this case into five different categories:** <br>\n",
    "***TAX, AGGREMENTS, VALUATION, HUMAN RESOURCES, DEEDS***"
   ]
  },
  {
   "cell_type": "markdown",
   "metadata": {},
   "source": [
    "### Importing the required libraries "
   ]
  },
  {
   "cell_type": "code",
   "execution_count": 1,
   "metadata": {},
   "outputs": [],
   "source": [
    "from subprocess import Popen, PIPE\n",
    "from pdfminer.pdfinterp import PDFResourceManager, PDFPageInterpreter\n",
    "from pdfminer.converter import TextConverter\n",
    "from pdfminer.layout import LAParams\n",
    "from pdfminer.pdfpage import PDFPage\n",
    "import io\n",
    "from io import StringIO\n",
    "import os\n",
    "import glob\n",
    "import docx\n",
    "import comtypes.client\n",
    "import sys\n",
    "import string\n",
    "from nltk.corpus import stopwords\n",
    "import matplotlib.pyplot as plt\n",
    "from nltk.stem import WordNetLemmatizer\n",
    "import warnings\n",
    "warnings.filterwarnings('ignore')"
   ]
  },
  {
   "cell_type": "markdown",
   "metadata": {},
   "source": [
    "### Raw Data conversion and extraction\n",
    "The raw data contains different file formats. Data needs to be extracted from them. Here doc files have been converted to PDF format first before extraction. I had issues while installing textract library which extracts test from the doc files directly, so I converted them to PDF and used pdfminer to extract texts.\n",
    "Texts are extracted on folder basis because the extracted texts need to be labeled.\n",
    "\n",
    "Another approach would be to convert the PDFs to HTML form and then extract the data from the tags. The PDFs when converted to HTML give the data inside tags, however when I converted them the data was all embedded in the <div> tags with no access to the unique heading tags or other data. So ended up extracting from PDFs."
   ]
  },
  {
   "cell_type": "markdown",
   "metadata": {},
   "source": [
    "### Code to convert all the doc files to PDF and store them in the same location"
   ]
  },
  {
   "cell_type": "code",
   "execution_count": 3,
   "metadata": {},
   "outputs": [],
   "source": [
    "wdFormatPDF = 17 # selecting the PDF format \n",
    "\n",
    "filelocation = 'RawData/Taxes'\n",
    "\n",
    "filelist=os.listdir(filelocation)\n",
    "doccollection=[]\n",
    "for files in filelist: #Traversing through all the files in the location to find the doc files\n",
    "    files=os.path.join(filelocation,files)\n",
    "    doccollection.append(files)\n",
    "for x in doccollection:\n",
    "    if x.endswith('.doc'):\n",
    "        word = comtypes.client.CreateObject('Word.Application')\n",
    "        doc = word.Documents.Open(os.path.abspath(x))\n",
    "        doc.SaveAs(os.path.abspath(x+'.pdf'), FileFormat=wdFormatPDF)\n",
    "        doc.Close()\n",
    "        word.Quit()\n",
    "        "
   ]
  },
  {
   "cell_type": "markdown",
   "metadata": {},
   "source": [
    "### Function to extract the textual data from PDFs"
   ]
  },
  {
   "cell_type": "code",
   "execution_count": 2,
   "metadata": {},
   "outputs": [],
   "source": [
    "import pandas as pd\n",
    "def convert_pdf_to_txt(path):\n",
    "    #alltexts = []\n",
    "    filelist=os.listdir(path)\n",
    "    documentcollection=[]\n",
    "    for files in filelist:\n",
    "        files=os.path.join(path,files)\n",
    "        documentcollection.append(files)\n",
    "    for ifiles in documentcollection:\n",
    "        if ifiles.endswith('.pdf') or ifiles.endswith('.PDF'): #different extensions on the raw data\n",
    "            with open(ifiles, 'rb') as fh:\n",
    "                for page in PDFPage.get_pages(fh, \n",
    "                                              caching=True,\n",
    "                                              check_extractable=True):\n",
    "                    resource_manager = PDFResourceManager()\n",
    "                    fake_file_handle = io.StringIO()\n",
    "                    converter = TextConverter(resource_manager, fake_file_handle)\n",
    "                    page_interpreter = PDFPageInterpreter(resource_manager, converter)\n",
    "                    page_interpreter.process_page(page)\n",
    " \n",
    "                    text = fake_file_handle.getvalue() # extraction of the text data\n",
    "                    yield text\n",
    " \n",
    "                    # closing open handles\n",
    "                    converter.close()\n",
    "                    fake_file_handle.close()\n",
    "        \n",
    "    #return alltexts"
   ]
  },
  {
   "cell_type": "markdown",
   "metadata": {},
   "source": [
    "### Extraction of Taxes files and labelling"
   ]
  },
  {
   "cell_type": "code",
   "execution_count": 3,
   "metadata": {
    "scrolled": true
   },
   "outputs": [],
   "source": [
    "filepath='RawData/Taxes'\n",
    "textcontents = convert_pdf_to_txt(filepath)\n",
    "dftaxes = pd.DataFrame(textcontents, columns = ['Text_Data']) \n",
    "dftaxes['Category'] = 'Taxes' # Adding the taxes label"
   ]
  },
  {
   "cell_type": "code",
   "execution_count": 4,
   "metadata": {},
   "outputs": [],
   "source": [
    "# Pre-processing the extracted textual data\n",
    "dftaxes['Text_Data'] = dftaxes['Text_Data'].apply(lambda x: \" \".join(x.lower() for x in x.split())) # lower case conversion\n",
    "dftaxes['Text_Data'] = dftaxes['Text_Data'].str.replace('[^\\w\\s]','') # getting rid of special characters\n",
    "dftaxes['Text_Data'] = dftaxes['Text_Data'].str.replace('\\d+', '') # removing numeric values from between the words\n",
    "dftaxes['Text_Data'] = dftaxes['Text_Data'].apply(lambda x: x.translate(string.digits)) # removing numerical numbers\n",
    "stop = stopwords.words('english')\n",
    "dftaxes['Text_Data'] = dftaxes['Text_Data'].apply(lambda x: \" \".join(x for x in x.split() if x not in stop)) #removing stop words\n",
    "stemmer = WordNetLemmatizer()\n",
    "dftaxes['Text_Data'] = [stemmer.lemmatize(word) for word in dftaxes['Text_Data']] #converting words to their dictionary form\n",
    "dftaxes['Text_Data'] = dftaxes['Text_Data'].str.replace('shall', '')"
   ]
  },
  {
   "cell_type": "code",
   "execution_count": 5,
   "metadata": {
    "scrolled": true
   },
   "outputs": [
    {
     "data": {
      "image/png": "[encoded data removed]",
      "text/plain": [
       "<Figure size 432x288 with 1 Axes>"
      ]
     },
     "metadata": {
      "needs_background": "light"
     },
     "output_type": "display_data"
    }
   ],
   "source": [
    "# Plotting 5 most occuring words in the 'Taxes' documents\n",
    "\n",
    "taxfreq = pd.Series(' '.join(dftaxes['Text_Data']).split()).value_counts()[:5]\n",
    "taxfreq.plot(kind='barh');\n",
    "plt.show()"
   ]
  },
  {
   "cell_type": "markdown",
   "metadata": {},
   "source": [
    "**Adding these top 5 words as an additional features to the dataframe which will be useful for classification algorithms**"
   ]
  },
  {
   "cell_type": "code",
   "execution_count": 6,
   "metadata": {},
   "outputs": [
    {
     "data": {
      "text/html": [
       "<div>\n",
       "<style scoped>\n",
       "    .dataframe tbody tr th:only-of-type {\n",
       "        vertical-align: middle;\n",
       "    }\n",
       "\n",
       "    .dataframe tbody tr th {\n",
       "        vertical-align: top;\n",
       "    }\n",
       "\n",
       "    .dataframe thead th {\n",
       "        text-align: right;\n",
       "    }\n",
       "</style>\n",
       "<table border=\"1\" class=\"dataframe\">\n",
       "  <thead>\n",
       "    <tr style=\"text-align: right;\">\n",
       "      <th></th>\n",
       "      <th>Text_Data</th>\n",
       "      <th>Category</th>\n",
       "      <th>Identifiers</th>\n",
       "    </tr>\n",
       "  </thead>\n",
       "  <tbody>\n",
       "    <tr>\n",
       "      <th>0</th>\n",
       "      <td>tax indemnity agreement tax indemnity agreemen...</td>\n",
       "      <td>Taxes</td>\n",
       "      <td>tax,agreement,section,group,date</td>\n",
       "    </tr>\n",
       "    <tr>\n",
       "      <th>1</th>\n",
       "      <td>factor ii acquisition price series c share iss...</td>\n",
       "      <td>Taxes</td>\n",
       "      <td>tax,agreement,section,group,date</td>\n",
       "    </tr>\n",
       "    <tr>\n",
       "      <th>2</th>\n",
       "      <td>earnout dilution factor means respect earnout ...</td>\n",
       "      <td>Taxes</td>\n",
       "      <td>tax,agreement,section,group,date</td>\n",
       "    </tr>\n",
       "    <tr>\n",
       "      <th>3</th>\n",
       "      <td>turn appoint third appraiser  determine fair v...</td>\n",
       "      <td>Taxes</td>\n",
       "      <td>tax,agreement,section,group,date</td>\n",
       "    </tr>\n",
       "    <tr>\n",
       "      <th>4</th>\n",
       "      <td>way diminution value notwithstanding anything ...</td>\n",
       "      <td>Taxes</td>\n",
       "      <td>tax,agreement,section,group,date</td>\n",
       "    </tr>\n",
       "  </tbody>\n",
       "</table>\n",
       "</div>"
      ],
      "text/plain": [
       "                                           Text_Data Category  \\\n",
       "0  tax indemnity agreement tax indemnity agreemen...    Taxes   \n",
       "1  factor ii acquisition price series c share iss...    Taxes   \n",
       "2  earnout dilution factor means respect earnout ...    Taxes   \n",
       "3  turn appoint third appraiser  determine fair v...    Taxes   \n",
       "4  way diminution value notwithstanding anything ...    Taxes   \n",
       "\n",
       "                        Identifiers  \n",
       "0  tax,agreement,section,group,date  \n",
       "1  tax,agreement,section,group,date  \n",
       "2  tax,agreement,section,group,date  \n",
       "3  tax,agreement,section,group,date  \n",
       "4  tax,agreement,section,group,date  "
      ]
     },
     "execution_count": 6,
     "metadata": {},
     "output_type": "execute_result"
    }
   ],
   "source": [
    "dftaxes['Identifiers'] = 'tax,agreement,section,group,date'\n",
    "dftaxes[:5]"
   ]
  },
  {
   "cell_type": "markdown",
   "metadata": {},
   "source": [
    "### Performing the same tasks on other category folders"
   ]
  },
  {
   "cell_type": "code",
   "execution_count": 7,
   "metadata": {},
   "outputs": [],
   "source": [
    "filepath='RawData/Agreements'\n",
    "agreementcontents = convert_pdf_to_txt(filepath)\n",
    "dfagreement = pd.DataFrame(agreementcontents, columns = ['Text_Data']) \n",
    "dfagreement['Category'] = 'Agreement'"
   ]
  },
  {
   "cell_type": "code",
   "execution_count": 8,
   "metadata": {},
   "outputs": [],
   "source": [
    "dfagreement['Text_Data'] = dfagreement['Text_Data'].apply(lambda x: \" \".join(x.lower() for x in x.split()))\n",
    "dfagreement['Text_Data'] = dfagreement['Text_Data'].str.replace('[^\\w\\s]','')\n",
    "dfagreement['Text_Data'] = dfagreement['Text_Data'].str.replace('\\d+', '') # remove numeric values from between the words\n",
    "dfagreement['Text_Data'] = dfagreement['Text_Data'].apply(lambda x: x.translate(string.digits))\n",
    "stop = stopwords.words('english')\n",
    "dfagreement['Text_Data'] = dfagreement['Text_Data'].apply(lambda x: \" \".join(x for x in x.split() if x not in stop))\n",
    "stemmer = WordNetLemmatizer()\n",
    "dfagreement['Text_Data'] = [stemmer.lemmatize(word) for word in dfagreement['Text_Data']]\n",
    "dfagreement['Text_Data'] = dfagreement['Text_Data'].str.replace('shall', '')"
   ]
  },
  {
   "cell_type": "code",
   "execution_count": 9,
   "metadata": {},
   "outputs": [
    {
     "data": {
      "image/png": "[encoded data removed]",
      "text/plain": [
       "<Figure size 432x288 with 1 Axes>"
      ]
     },
     "metadata": {
      "needs_background": "light"
     },
     "output_type": "display_data"
    }
   ],
   "source": [
    "agfreq = pd.Series(' '.join(dfagreement['Text_Data']).split()).value_counts()[:5]\n",
    "agfreq.plot(kind='barh');\n",
    "plt.show()"
   ]
  },
  {
   "cell_type": "code",
   "execution_count": 10,
   "metadata": {},
   "outputs": [
    {
     "data": {
      "text/html": [
       "<div>\n",
       "<style scoped>\n",
       "    .dataframe tbody tr th:only-of-type {\n",
       "        vertical-align: middle;\n",
       "    }\n",
       "\n",
       "    .dataframe tbody tr th {\n",
       "        vertical-align: top;\n",
       "    }\n",
       "\n",
       "    .dataframe thead th {\n",
       "        text-align: right;\n",
       "    }\n",
       "</style>\n",
       "<table border=\"1\" class=\"dataframe\">\n",
       "  <thead>\n",
       "    <tr style=\"text-align: right;\">\n",
       "      <th></th>\n",
       "      <th>Text_Data</th>\n",
       "      <th>Category</th>\n",
       "      <th>Identifiers</th>\n",
       "    </tr>\n",
       "  </thead>\n",
       "  <tbody>\n",
       "    <tr>\n",
       "      <th>0</th>\n",
       "      <td>agreement xxw amendment agreement among united...</td>\n",
       "      <td>Agreement</td>\n",
       "      <td>agreement,subcontractor,contractor,work,subcon...</td>\n",
       "    </tr>\n",
       "    <tr>\n",
       "      <th>1</th>\n",
       "      <td>act september stat designated colorado river b...</td>\n",
       "      <td>Agreement</td>\n",
       "      <td>agreement,subcontractor,contractor,work,subcon...</td>\n",
       "    </tr>\n",
       "    <tr>\n",
       "      <th>2</th>\n",
       "      <td>section party provides additional funding part...</td>\n",
       "      <td>Agreement</td>\n",
       "      <td>agreement,subcontractor,contractor,work,subcon...</td>\n",
       "    </tr>\n",
       "    <tr>\n",
       "      <th>3</th>\n",
       "      <td>witness whereof parties hereto executed amendm...</td>\n",
       "      <td>Agreement</td>\n",
       "      <td>agreement,subcontractor,contractor,work,subcon...</td>\n",
       "    </tr>\n",
       "    <tr>\n",
       "      <th>4</th>\n",
       "      <td>witness whereof parties hereto executed amendm...</td>\n",
       "      <td>Agreement</td>\n",
       "      <td>agreement,subcontractor,contractor,work,subcon...</td>\n",
       "    </tr>\n",
       "  </tbody>\n",
       "</table>\n",
       "</div>"
      ],
      "text/plain": [
       "                                           Text_Data   Category  \\\n",
       "0  agreement xxw amendment agreement among united...  Agreement   \n",
       "1  act september stat designated colorado river b...  Agreement   \n",
       "2  section party provides additional funding part...  Agreement   \n",
       "3  witness whereof parties hereto executed amendm...  Agreement   \n",
       "4  witness whereof parties hereto executed amendm...  Agreement   \n",
       "\n",
       "                                         Identifiers  \n",
       "0  agreement,subcontractor,contractor,work,subcon...  \n",
       "1  agreement,subcontractor,contractor,work,subcon...  \n",
       "2  agreement,subcontractor,contractor,work,subcon...  \n",
       "3  agreement,subcontractor,contractor,work,subcon...  \n",
       "4  agreement,subcontractor,contractor,work,subcon...  "
      ]
     },
     "execution_count": 10,
     "metadata": {},
     "output_type": "execute_result"
    }
   ],
   "source": [
    "dfagreement['Identifiers'] = 'agreement,subcontractor,contractor,work,subcontract'\n",
    "dfagreement[:5]"
   ]
  },
  {
   "cell_type": "code",
   "execution_count": 11,
   "metadata": {},
   "outputs": [],
   "source": [
    "filepath='RawData/Deeds'\n",
    "deedscontents = convert_pdf_to_txt(filepath)\n",
    "dfdeeds = pd.DataFrame(deedscontents, columns = ['Text_Data']) \n",
    "dfdeeds['Category'] = 'Deeds'"
   ]
  },
  {
   "cell_type": "code",
   "execution_count": 12,
   "metadata": {},
   "outputs": [],
   "source": [
    "dfdeeds['Text_Data'] = dfdeeds['Text_Data'].apply(lambda x: \" \".join(x.lower() for x in x.split()))\n",
    "dfdeeds['Text_Data'] = dfdeeds['Text_Data'].str.replace('[^\\w\\s]','')\n",
    "dfdeeds['Text_Data'] = dfdeeds['Text_Data'].str.replace('\\d+', '') # remove numeric values from between the words\n",
    "dfdeeds['Text_Data'] = dfdeeds['Text_Data'].apply(lambda x: x.translate(string.digits))\n",
    "stop = stopwords.words('english')\n",
    "dfdeeds['Text_Data'] = dfdeeds['Text_Data'].apply(lambda x: \" \".join(x for x in x.split() if x not in stop))\n",
    "stemmer = WordNetLemmatizer()\n",
    "dfdeeds['Text_Data'] = [stemmer.lemmatize(word) for word in dfdeeds['Text_Data']]\n",
    "dfdeeds['Text_Data'] = dfdeeds['Text_Data'].str.replace('shall', '')"
   ]
  },
  {
   "cell_type": "code",
   "execution_count": 13,
   "metadata": {},
   "outputs": [
    {
     "data": {
      "image/png": "[encoded data removed]",
      "text/plain": [
       "<Figure size 432x288 with 1 Axes>"
      ]
     },
     "metadata": {
      "needs_background": "light"
     },
     "output_type": "display_data"
    }
   ],
   "source": [
    "dfreq = pd.Series(' '.join(dfdeeds['Text_Data']).split()).value_counts()[:5]\n",
    "dfreq.plot(kind='barh');\n",
    "plt.show()"
   ]
  },
  {
   "cell_type": "code",
   "execution_count": 14,
   "metadata": {},
   "outputs": [
    {
     "data": {
      "text/html": [
       "<div>\n",
       "<style scoped>\n",
       "    .dataframe tbody tr th:only-of-type {\n",
       "        vertical-align: middle;\n",
       "    }\n",
       "\n",
       "    .dataframe tbody tr th {\n",
       "        vertical-align: top;\n",
       "    }\n",
       "\n",
       "    .dataframe thead th {\n",
       "        text-align: right;\n",
       "    }\n",
       "</style>\n",
       "<table border=\"1\" class=\"dataframe\">\n",
       "  <thead>\n",
       "    <tr style=\"text-align: right;\">\n",
       "      <th></th>\n",
       "      <th>Text_Data</th>\n",
       "      <th>Category</th>\n",
       "      <th>Identifiers</th>\n",
       "    </tr>\n",
       "  </thead>\n",
       "  <tbody>\n",
       "    <tr>\n",
       "      <th>0</th>\n",
       "      <td>sample deed trust deed trust definitions words...</td>\n",
       "      <td>Deeds</td>\n",
       "      <td>property,borrower,lender,security,beneficiary</td>\n",
       "    </tr>\n",
       "    <tr>\n",
       "      <th>1</th>\n",
       "      <td>cid adjustable rate rider cid condominium ride...</td>\n",
       "      <td>Deeds</td>\n",
       "      <td>property,borrower,lender,security,beneficiary</td>\n",
       "    </tr>\n",
       "    <tr>\n",
       "      <th>2</th>\n",
       "      <td>q successor interest borrower means party take...</td>\n",
       "      <td>Deeds</td>\n",
       "      <td>property,borrower,lender,security,beneficiary</td>\n",
       "    </tr>\n",
       "    <tr>\n",
       "      <th>3</th>\n",
       "      <td>check drawn upon institution whose deposits in...</td>\n",
       "      <td>Deeds</td>\n",
       "      <td>property,borrower,lender,security,beneficiary</td>\n",
       "    </tr>\n",
       "    <tr>\n",
       "      <th>4</th>\n",
       "      <td>b leasehold payments ground rents property c p...</td>\n",
       "      <td>Deeds</td>\n",
       "      <td>property,borrower,lender,security,beneficiary</td>\n",
       "    </tr>\n",
       "  </tbody>\n",
       "</table>\n",
       "</div>"
      ],
      "text/plain": [
       "                                           Text_Data Category  \\\n",
       "0  sample deed trust deed trust definitions words...    Deeds   \n",
       "1  cid adjustable rate rider cid condominium ride...    Deeds   \n",
       "2  q successor interest borrower means party take...    Deeds   \n",
       "3  check drawn upon institution whose deposits in...    Deeds   \n",
       "4  b leasehold payments ground rents property c p...    Deeds   \n",
       "\n",
       "                                     Identifiers  \n",
       "0  property,borrower,lender,security,beneficiary  \n",
       "1  property,borrower,lender,security,beneficiary  \n",
       "2  property,borrower,lender,security,beneficiary  \n",
       "3  property,borrower,lender,security,beneficiary  \n",
       "4  property,borrower,lender,security,beneficiary  "
      ]
     },
     "execution_count": 14,
     "metadata": {},
     "output_type": "execute_result"
    }
   ],
   "source": [
    "dfdeeds['Identifiers'] = 'property,borrower,lender,security,beneficiary'\n",
    "dfdeeds[:5]"
   ]
  },
  {
   "cell_type": "code",
   "execution_count": 15,
   "metadata": {},
   "outputs": [],
   "source": [
    "filepath='RawData/Valuations'\n",
    "valuationcontents = convert_pdf_to_txt(filepath)\n",
    "dfvaluation = pd.DataFrame(valuationcontents, columns = ['Text_Data']) \n",
    "dfvaluation['Category'] = 'Valuations'"
   ]
  },
  {
   "cell_type": "code",
   "execution_count": 16,
   "metadata": {},
   "outputs": [],
   "source": [
    "dfvaluation['Text_Data'] = dfvaluation['Text_Data'].apply(lambda x: \" \".join(x.lower() for x in x.split()))\n",
    "dfvaluation['Text_Data'] = dfvaluation['Text_Data'].str.replace('[^\\w\\s]','')\n",
    "dfvaluation['Text_Data'] = dfvaluation['Text_Data'].str.replace('\\d+', '') # remove numeric values from between the words\n",
    "dfvaluation['Text_Data'] = dfvaluation['Text_Data'].apply(lambda x: x.translate(string.digits))\n",
    "stop = stopwords.words('english')\n",
    "stemmer = WordNetLemmatizer()\n",
    "dfvaluation['Text_Data'] = [stemmer.lemmatize(word) for word in dfvaluation['Text_Data']]\n",
    "dfvaluation['Text_Data'] = dfvaluation['Text_Data'].apply(lambda x: \" \".join(x for x in x.split() if x not in stop))"
   ]
  },
  {
   "cell_type": "code",
   "execution_count": 17,
   "metadata": {},
   "outputs": [
    {
     "data": {
      "image/png": "[encoded data removed]",
      "text/plain": [
       "<Figure size 432x288 with 1 Axes>"
      ]
     },
     "metadata": {
      "needs_background": "light"
     },
     "output_type": "display_data"
    }
   ],
   "source": [
    "valfreq = pd.Series(' '.join(dfvaluation['Text_Data']).split()).value_counts()[:5]\n",
    "valfreq.plot(kind='barh');\n",
    "plt.show()"
   ]
  },
  {
   "cell_type": "code",
   "execution_count": 18,
   "metadata": {},
   "outputs": [
    {
     "data": {
      "text/html": [
       "<div>\n",
       "<style scoped>\n",
       "    .dataframe tbody tr th:only-of-type {\n",
       "        vertical-align: middle;\n",
       "    }\n",
       "\n",
       "    .dataframe tbody tr th {\n",
       "        vertical-align: top;\n",
       "    }\n",
       "\n",
       "    .dataframe thead th {\n",
       "        text-align: right;\n",
       "    }\n",
       "</style>\n",
       "<table border=\"1\" class=\"dataframe\">\n",
       "  <thead>\n",
       "    <tr style=\"text-align: right;\">\n",
       "      <th></th>\n",
       "      <th>Text_Data</th>\n",
       "      <th>Category</th>\n",
       "      <th>Identifiers</th>\n",
       "    </tr>\n",
       "  </thead>\n",
       "  <tbody>\n",
       "    <tr>\n",
       "      <th>0</th>\n",
       "      <td>valuation reportbusiness valuation trends stra...</td>\n",
       "      <td>Valuations</td>\n",
       "      <td>valuation,value,report,market,level</td>\n",
       "    </tr>\n",
       "    <tr>\n",
       "      <th>1</th>\n",
       "      <td>valuation report spring technical topicsthe im...</td>\n",
       "      <td>Valuations</td>\n",
       "      <td>valuation,value,report,market,level</td>\n",
       "    </tr>\n",
       "    <tr>\n",
       "      <th>2</th>\n",
       "      <td>spring valuation reportlitigation update dlom ...</td>\n",
       "      <td>Valuations</td>\n",
       "      <td>valuation,value,report,market,level</td>\n",
       "    </tr>\n",
       "    <tr>\n",
       "      <th>3</th>\n",
       "      <td>publication distributed understanding author p...</td>\n",
       "      <td>Valuations</td>\n",
       "      <td>valuation,value,report,market,level</td>\n",
       "    </tr>\n",
       "    <tr>\n",
       "      <th>4</th>\n",
       "      <td>november actuarialvaluationreportguaranteededu...</td>\n",
       "      <td>Valuations</td>\n",
       "      <td>valuation,value,report,market,level</td>\n",
       "    </tr>\n",
       "  </tbody>\n",
       "</table>\n",
       "</div>"
      ],
      "text/plain": [
       "                                           Text_Data    Category  \\\n",
       "0  valuation reportbusiness valuation trends stra...  Valuations   \n",
       "1  valuation report spring technical topicsthe im...  Valuations   \n",
       "2  spring valuation reportlitigation update dlom ...  Valuations   \n",
       "3  publication distributed understanding author p...  Valuations   \n",
       "4  november actuarialvaluationreportguaranteededu...  Valuations   \n",
       "\n",
       "                           Identifiers  \n",
       "0  valuation,value,report,market,level  \n",
       "1  valuation,value,report,market,level  \n",
       "2  valuation,value,report,market,level  \n",
       "3  valuation,value,report,market,level  \n",
       "4  valuation,value,report,market,level  "
      ]
     },
     "execution_count": 18,
     "metadata": {},
     "output_type": "execute_result"
    }
   ],
   "source": [
    "dfvaluation['Identifiers'] = 'valuation,value,report,market,level'\n",
    "dfvaluation[:5]"
   ]
  },
  {
   "cell_type": "code",
   "execution_count": 19,
   "metadata": {},
   "outputs": [],
   "source": [
    "filepath='RawData/Human Resources'\n",
    "hrcontents = convert_pdf_to_txt(filepath)\n",
    "dfhr = pd.DataFrame(hrcontents, columns = ['Text_Data']) \n",
    "dfhr['Category'] = 'Human Resources'"
   ]
  },
  {
   "cell_type": "code",
   "execution_count": 20,
   "metadata": {},
   "outputs": [],
   "source": [
    "dfhr['Text_Data'] = dfhr['Text_Data'].apply(lambda x: \" \".join(x.lower() for x in x.split()))\n",
    "dfhr['Text_Data'] = dfhr['Text_Data'].str.replace('[^\\w\\s]','')\n",
    "dfhr['Text_Data'] = dfhr['Text_Data'].str.replace('\\d+', '') # remove numeric values from between the words\n",
    "dfhr['Text_Data'] = dfhr['Text_Data'].apply(lambda x: x.translate(string.digits))\n",
    "stop = stopwords.words('english')\n",
    "dfhr['Text_Data'] = dfhr['Text_Data'].apply(lambda x: \" \".join(x for x in x.split() if x not in stop))\n",
    "stemmer = WordNetLemmatizer()\n",
    "dfhr['Text_Data'] = [stemmer.lemmatize(word) for word in dfhr['Text_Data']]\n",
    "dfhr['Text_Data'] = dfhr['Text_Data'].str.replace('may', '')"
   ]
  },
  {
   "cell_type": "code",
   "execution_count": 21,
   "metadata": {},
   "outputs": [
    {
     "data": {
      "image/png": "[encoded data removed]",
      "text/plain": [
       "<Figure size 432x288 with 1 Axes>"
      ]
     },
     "metadata": {
      "needs_background": "light"
     },
     "output_type": "display_data"
    }
   ],
   "source": [
    "hrfreq = pd.Series(' '.join(dfhr['Text_Data']).split()).value_counts()[:5]\n",
    "hrfreq.plot(kind='barh');\n",
    "plt.show()"
   ]
  },
  {
   "cell_type": "code",
   "execution_count": 22,
   "metadata": {},
   "outputs": [
    {
     "data": {
      "text/html": [
       "<div>\n",
       "<style scoped>\n",
       "    .dataframe tbody tr th:only-of-type {\n",
       "        vertical-align: middle;\n",
       "    }\n",
       "\n",
       "    .dataframe tbody tr th {\n",
       "        vertical-align: top;\n",
       "    }\n",
       "\n",
       "    .dataframe thead th {\n",
       "        text-align: right;\n",
       "    }\n",
       "</style>\n",
       "<table border=\"1\" class=\"dataframe\">\n",
       "  <thead>\n",
       "    <tr style=\"text-align: right;\">\n",
       "      <th></th>\n",
       "      <th>Text_Data</th>\n",
       "      <th>Category</th>\n",
       "      <th>Identifiers</th>\n",
       "    </tr>\n",
       "  </thead>\n",
       "  <tbody>\n",
       "    <tr>\n",
       "      <th>0</th>\n",
       "      <td>volunteer coordinators job description general...</td>\n",
       "      <td>Human Resources</td>\n",
       "      <td>plan,coverage,benefits,service,level</td>\n",
       "    </tr>\n",
       "    <tr>\n",
       "      <th>1</th>\n",
       "      <td>cid participate volunteer evaluations assigned...</td>\n",
       "      <td>Human Resources</td>\n",
       "      <td>plan,coverage,benefits,service,level</td>\n",
       "    </tr>\n",
       "    <tr>\n",
       "      <th>2</th>\n",
       "      <td>hiring company name texas ballet theater hirin...</td>\n",
       "      <td>Human Resources</td>\n",
       "      <td>plan,coverage,benefits,service,level</td>\n",
       "    </tr>\n",
       "    <tr>\n",
       "      <th>3</th>\n",
       "      <td>oversee community enrichment citydance outreac...</td>\n",
       "      <td>Human Resources</td>\n",
       "      <td>plan,coverage,benefits,service,level</td>\n",
       "    </tr>\n",
       "    <tr>\n",
       "      <th>4</th>\n",
       "      <td>dynamic energetic creative socially adept demo...</td>\n",
       "      <td>Human Resources</td>\n",
       "      <td>plan,coverage,benefits,service,level</td>\n",
       "    </tr>\n",
       "  </tbody>\n",
       "</table>\n",
       "</div>"
      ],
      "text/plain": [
       "                                           Text_Data         Category  \\\n",
       "0  volunteer coordinators job description general...  Human Resources   \n",
       "1  cid participate volunteer evaluations assigned...  Human Resources   \n",
       "2  hiring company name texas ballet theater hirin...  Human Resources   \n",
       "3  oversee community enrichment citydance outreac...  Human Resources   \n",
       "4  dynamic energetic creative socially adept demo...  Human Resources   \n",
       "\n",
       "                            Identifiers  \n",
       "0  plan,coverage,benefits,service,level  \n",
       "1  plan,coverage,benefits,service,level  \n",
       "2  plan,coverage,benefits,service,level  \n",
       "3  plan,coverage,benefits,service,level  \n",
       "4  plan,coverage,benefits,service,level  "
      ]
     },
     "execution_count": 22,
     "metadata": {},
     "output_type": "execute_result"
    }
   ],
   "source": [
    "dfhr['Identifiers'] = 'plan,coverage,benefits,service,level'\n",
    "dfhr[:5]"
   ]
  },
  {
   "cell_type": "markdown",
   "metadata": {},
   "source": [
    "### Merging all the data with the labels for further processing"
   ]
  },
  {
   "cell_type": "code",
   "execution_count": 23,
   "metadata": {},
   "outputs": [
    {
     "data": {
      "text/html": [
       "<div>\n",
       "<style scoped>\n",
       "    .dataframe tbody tr th:only-of-type {\n",
       "        vertical-align: middle;\n",
       "    }\n",
       "\n",
       "    .dataframe tbody tr th {\n",
       "        vertical-align: top;\n",
       "    }\n",
       "\n",
       "    .dataframe thead th {\n",
       "        text-align: right;\n",
       "    }\n",
       "</style>\n",
       "<table border=\"1\" class=\"dataframe\">\n",
       "  <thead>\n",
       "    <tr style=\"text-align: right;\">\n",
       "      <th></th>\n",
       "      <th>Identifiers</th>\n",
       "      <th>Text_Data</th>\n",
       "      <th>Category</th>\n",
       "    </tr>\n",
       "  </thead>\n",
       "  <tbody>\n",
       "    <tr>\n",
       "      <th>0</th>\n",
       "      <td>tax,agreement,section,group,date</td>\n",
       "      <td>tax indemnity agreement tax indemnity agreemen...</td>\n",
       "      <td>Taxes</td>\n",
       "    </tr>\n",
       "    <tr>\n",
       "      <th>1</th>\n",
       "      <td>tax,agreement,section,group,date</td>\n",
       "      <td>factor ii acquisition price series c share iss...</td>\n",
       "      <td>Taxes</td>\n",
       "    </tr>\n",
       "    <tr>\n",
       "      <th>2</th>\n",
       "      <td>tax,agreement,section,group,date</td>\n",
       "      <td>earnout dilution factor means respect earnout ...</td>\n",
       "      <td>Taxes</td>\n",
       "    </tr>\n",
       "    <tr>\n",
       "      <th>3</th>\n",
       "      <td>tax,agreement,section,group,date</td>\n",
       "      <td>turn appoint third appraiser  determine fair v...</td>\n",
       "      <td>Taxes</td>\n",
       "    </tr>\n",
       "    <tr>\n",
       "      <th>4</th>\n",
       "      <td>tax,agreement,section,group,date</td>\n",
       "      <td>way diminution value notwithstanding anything ...</td>\n",
       "      <td>Taxes</td>\n",
       "    </tr>\n",
       "  </tbody>\n",
       "</table>\n",
       "</div>"
      ],
      "text/plain": [
       "                        Identifiers  \\\n",
       "0  tax,agreement,section,group,date   \n",
       "1  tax,agreement,section,group,date   \n",
       "2  tax,agreement,section,group,date   \n",
       "3  tax,agreement,section,group,date   \n",
       "4  tax,agreement,section,group,date   \n",
       "\n",
       "                                           Text_Data Category  \n",
       "0  tax indemnity agreement tax indemnity agreemen...    Taxes  \n",
       "1  factor ii acquisition price series c share iss...    Taxes  \n",
       "2  earnout dilution factor means respect earnout ...    Taxes  \n",
       "3  turn appoint third appraiser  determine fair v...    Taxes  \n",
       "4  way diminution value notwithstanding anything ...    Taxes  "
      ]
     },
     "execution_count": 23,
     "metadata": {},
     "output_type": "execute_result"
    }
   ],
   "source": [
    "frames = [dftaxes, dfagreement, dfdeeds, dfvaluation, dfhr]\n",
    "finalframe = pd.concat(frames,sort=False)\n",
    "finalframe = finalframe[['Identifiers','Text_Data','Category']]\n",
    "finalframe = finalframe.reset_index(drop=True)\n",
    "finalframe[:5]"
   ]
  },
  {
   "cell_type": "markdown",
   "metadata": {},
   "source": [
    "## Analysis of the extracted data\n",
    "The extracted data has to analyzed for anamolies and other insights which can be used to process them further"
   ]
  },
  {
   "cell_type": "markdown",
   "metadata": {},
   "source": [
    "### Counting the data points of each category\n",
    "\n",
    "We can see that we have a lot of data for human resources and very less for agreements category. This suggests that the data is imbalanced and needs data augmentation. Under sampling was not an option because of the already small dataset which leads to less performance of the model overall. So over sampling is one of the options that needs to be taken into consideration."
   ]
  },
  {
   "cell_type": "code",
   "execution_count": 24,
   "metadata": {},
   "outputs": [
    {
     "data": {
      "image/png": "[encoded data removed]",
      "text/plain": [
       "<Figure size 720x288 with 1 Axes>"
      ]
     },
     "metadata": {
      "needs_background": "light"
     },
     "output_type": "display_data"
    }
   ],
   "source": [
    "import matplotlib.pyplot as plt\n",
    "my_tags = ['Agreements','Deeds','Taxes','Human Resources','Valuations']\n",
    "plt.figure(figsize=(10,4))\n",
    "finalframe.Category.value_counts().plot(kind='bar');\n",
    "plt.show()"
   ]
  },
  {
   "cell_type": "markdown",
   "metadata": {},
   "source": [
    "### Building different models for classification of the documents"
   ]
  },
  {
   "cell_type": "markdown",
   "metadata": {},
   "source": [
    "Training data after using TF-IDF. Term Frequency - Inverse document frequency takes care of the assigning vectors to the word based on the frequency of them occuring in each document. "
   ]
  },
  {
   "cell_type": "code",
   "execution_count": 25,
   "metadata": {},
   "outputs": [
    {
     "name": "stdout",
     "output_type": "stream",
     "text": [
      "   0         1    2    3    4         5         6    7         8    9   ...   \\\n",
      "0  0.0  0.000000  0.0  0.0  0.0  0.000000  0.000000  0.0  0.000000  0.0 ...    \n",
      "1  0.0  0.000000  0.0  0.0  0.0  0.000000  0.075627  0.0  0.000000  0.0 ...    \n",
      "2  0.0  0.077873  0.0  0.0  0.0  0.057588  0.000000  0.0  0.000000  0.0 ...    \n",
      "3  0.0  0.000000  0.0  0.0  0.0  0.000000  0.000000  0.0  0.000000  0.0 ...    \n",
      "4  0.0  0.000000  0.0  0.0  0.0  0.000000  0.000000  0.0  0.061452  0.0 ...    \n",
      "\n",
      "   990  991       992       993  994  995  996  997  998  999  \n",
      "0  0.0  0.0  0.000000  0.000000  0.0  0.0  0.0  0.0  0.0  0.0  \n",
      "1  0.0  0.0  0.000000  0.000000  0.0  0.0  0.0  0.0  0.0  0.0  \n",
      "2  0.0  0.0  0.000000  0.062047  0.0  0.0  0.0  0.0  0.0  0.0  \n",
      "3  0.0  0.0  0.000000  0.059795  0.0  0.0  0.0  0.0  0.0  0.0  \n",
      "4  0.0  0.0  0.042755  0.000000  0.0  0.0  0.0  0.0  0.0  0.0  \n",
      "\n",
      "[5 rows x 1000 columns]\n"
     ]
    }
   ],
   "source": [
    "# Converting the text data into vectors using TF-IDF\n",
    "from sklearn.feature_extraction.text import TfidfVectorizer  \n",
    "from sklearn.preprocessing import LabelEncoder\n",
    "# Generating 1000 features for the input for the model\n",
    "tfidfconverter = TfidfVectorizer(max_features=1000, stop_words=stopwords.words('english')) \n",
    "X = pd.DataFrame(tfidfconverter.fit_transform(finalframe['Text_Data']).toarray())\n",
    "print(X[:5])\n",
    "#X.columns = range(X.shape[1])\n",
    "labelencoder = LabelEncoder() #Converting the labels to numeric labels\n",
    "y = labelencoder.fit_transform(finalframe['Category'])"
   ]
  },
  {
   "cell_type": "code",
   "execution_count": 26,
   "metadata": {},
   "outputs": [],
   "source": [
    "from sklearn.model_selection import train_test_split \n",
    "X_train, X_test, y_train, y_test = train_test_split(X, y, test_size=0.3, random_state=0)  "
   ]
  },
  {
   "cell_type": "markdown",
   "metadata": {},
   "source": [
    "### Oversampling the data to get well balanced classes for model building"
   ]
  },
  {
   "cell_type": "code",
   "execution_count": 27,
   "metadata": {},
   "outputs": [],
   "source": [
    "from imblearn.over_sampling import RandomOverSampler\n",
    "ros = RandomOverSampler(random_state=1)\n",
    "X_resampled, y_resampled = ros.fit_resample(X, y)"
   ]
  },
  {
   "cell_type": "code",
   "execution_count": 29,
   "metadata": {},
   "outputs": [
    {
     "name": "stdout",
     "output_type": "stream",
     "text": [
      "[[  0 807]\n",
      " [  1 807]\n",
      " [  2 807]\n",
      " [  3 807]\n",
      " [  4 807]]\n"
     ]
    }
   ],
   "source": [
    "import numpy as np\n",
    "unique, counts = np.unique(y_resampled, return_counts=True)\n",
    "print(np.asarray((unique, counts)).T)"
   ]
  },
  {
   "cell_type": "markdown",
   "metadata": {},
   "source": [
    "### Oversampling has made all the classes equally balanced with 807 data points each"
   ]
  },
  {
   "cell_type": "code",
   "execution_count": 30,
   "metadata": {},
   "outputs": [],
   "source": [
    "from sklearn.model_selection import train_test_split \n",
    "X_train, X_test, y_train, y_test = train_test_split(X_resampled, y_resampled, test_size=0.2, random_state=0)  "
   ]
  },
  {
   "cell_type": "markdown",
   "metadata": {},
   "source": [
    "## Building different models and comparing their performances"
   ]
  },
  {
   "cell_type": "markdown",
   "metadata": {},
   "source": [
    "## Random Forest Classifier"
   ]
  },
  {
   "cell_type": "markdown",
   "metadata": {},
   "source": [
    "Random Forest is an ensemble model of decision trees. Here it is used to classify the features into different categories. The reason I decided to go with RFC is beacuse of it's robustness on small datasets. "
   ]
  },
  {
   "cell_type": "code",
   "execution_count": 31,
   "metadata": {},
   "outputs": [],
   "source": [
    "from sklearn.ensemble import RandomForestClassifier\n",
    "from sklearn import preprocessing\n",
    "classifier = RandomForestClassifier(n_estimators=1200, random_state=1)  #defining 1000 nodes \n",
    "rf = classifier.fit(X_train, y_train)  \n",
    "y_pred = classifier.predict(X_test) "
   ]
  },
  {
   "cell_type": "code",
   "execution_count": 34,
   "metadata": {},
   "outputs": [
    {
     "name": "stdout",
     "output_type": "stream",
     "text": [
      "Accuracy: 0.9405204460966543\n",
      "                 precision    recall  f1-score   support\n",
      "\n",
      "     Agreements       0.79      1.00      0.88       163\n",
      "          Deeds       0.99      0.99      0.99       166\n",
      "          Taxes       1.00      0.79      0.88       151\n",
      "Human Resources       0.98      0.97      0.98       151\n",
      "     Valuations       1.00      0.94      0.97       176\n",
      "\n",
      "      micro avg       0.94      0.94      0.94       807\n",
      "      macro avg       0.95      0.94      0.94       807\n",
      "   weighted avg       0.95      0.94      0.94       807\n",
      "\n",
      "Confusion matrix:\n",
      " [[163   0   0   0   0]\n",
      " [  2 164   0   0   0]\n",
      " [ 29   0 119   3   0]\n",
      " [  4   0   0 147   0]\n",
      " [  8   2   0   0 166]]\n"
     ]
    },
    {
     "data": {
      "image/png": "[encoded data removed]",
      "text/plain": [
       "<Figure size 432x288 with 2 Axes>"
      ]
     },
     "metadata": {
      "needs_background": "light"
     },
     "output_type": "display_data"
    }
   ],
   "source": [
    "from sklearn.metrics import classification_report, confusion_matrix, accuracy_score\n",
    "print('Accuracy: %s' % accuracy_score(y_test, y_pred))\n",
    "print(classification_report(y_test,y_pred,target_names=my_tags))  \n",
    "#print(confusion_matrix(y_test,y_pred)) \n",
    "\n",
    "conf_mat = confusion_matrix(y_true=y_test, y_pred=y_pred)\n",
    "print('Confusion matrix:\\n', conf_mat)\n",
    "\n",
    "labels = ['Agreement', 'Deeds','Human Resources','Taxes','Valuations']\n",
    "fig = plt.figure()\n",
    "ax = fig.add_subplot(111)\n",
    "cax = ax.matshow(conf_mat, cmap=plt.cm.Blues)\n",
    "fig.colorbar(cax)\n",
    "ax.set_xticklabels([''] + labels)\n",
    "ax.set_yticklabels([''] + labels)\n",
    "plt.xlabel('Predicted')\n",
    "plt.ylabel('Expected')\n",
    "plt.show()"
   ]
  },
  {
   "cell_type": "code",
   "execution_count": 53,
   "metadata": {},
   "outputs": [],
   "source": [
    "# Saving model to disk\n",
    "import pickle\n",
    "import requests\n",
    "import json\n",
    "pickle.dump(rf, open('rfmodel.pkl','wb'))"
   ]
  },
  {
   "cell_type": "markdown",
   "metadata": {},
   "source": [
    "**It can be seen that the random forest classifier gives an accuracy of around 94% and performs well for classification with good F1 scores. It is predicting almost the right classes for the test data with few false positives and negatives**"
   ]
  },
  {
   "cell_type": "markdown",
   "metadata": {},
   "source": [
    "## Naive Bayes Classifier"
   ]
  },
  {
   "cell_type": "markdown",
   "metadata": {},
   "source": [
    "NBC is based on describing counts among number of categories so it is used in text classification where the features are related to word counts or frequencies within the document to be classified."
   ]
  },
  {
   "cell_type": "code",
   "execution_count": 40,
   "metadata": {},
   "outputs": [
    {
     "name": "stdout",
     "output_type": "stream",
     "text": [
      "Accuracy: 0.9231722428748451\n",
      "                 precision    recall  f1-score   support\n",
      "\n",
      "     Agreements       0.96      0.83      0.89       163\n",
      "          Deeds       0.96      0.95      0.95       166\n",
      "          Taxes       0.80      0.98      0.88       151\n",
      "Human Resources       0.96      0.94      0.95       151\n",
      "     Valuations       0.96      0.92      0.94       176\n",
      "\n",
      "      micro avg       0.92      0.92      0.92       807\n",
      "      macro avg       0.93      0.92      0.92       807\n",
      "   weighted avg       0.93      0.92      0.92       807\n",
      "\n",
      "Confusion matrix:\n",
      " [[136   2  23   0   2]\n",
      " [  2 157   2   2   3]\n",
      " [  1   0 148   2   0]\n",
      " [  2   1   5 142   1]\n",
      " [  1   3   8   2 162]]\n"
     ]
    },
    {
     "data": {
      "image/png": "[encoded data removed]",
      "text/plain": [
       "<Figure size 432x288 with 2 Axes>"
      ]
     },
     "metadata": {
      "needs_background": "light"
     },
     "output_type": "display_data"
    }
   ],
   "source": [
    "from sklearn.naive_bayes import MultinomialNB\n",
    "clf = MultinomialNB().fit(X_train, y_train)\n",
    "\n",
    "y_pred = clf.predict(X_test)\n",
    "print('Accuracy: %s' % accuracy_score(y_pred, y_test))\n",
    "print(classification_report(y_test, y_pred,target_names=my_tags))\n",
    "\n",
    "conf_mat = confusion_matrix(y_true=y_test, y_pred=y_pred)\n",
    "print('Confusion matrix:\\n', conf_mat)\n",
    "\n",
    "labels = ['Agreement', 'Deeds','Human Resources','Taxes','Valuations']\n",
    "fig = plt.figure()\n",
    "ax = fig.add_subplot(111)\n",
    "cax = ax.matshow(conf_mat, cmap=plt.cm.Blues)\n",
    "fig.colorbar(cax)\n",
    "ax.set_xticklabels([''] + labels)\n",
    "ax.set_yticklabels([''] + labels)\n",
    "plt.xlabel('Predicted')\n",
    "plt.ylabel('Expected')\n",
    "plt.show()"
   ]
  },
  {
   "cell_type": "code",
   "execution_count": 54,
   "metadata": {},
   "outputs": [],
   "source": [
    "pickle.dump(clf, open('nbmodel.pkl','wb'))"
   ]
  },
  {
   "cell_type": "markdown",
   "metadata": {},
   "source": [
    "**Naive Bayes classifier gives an accuracy of around 92% and performs well for classification with good F1 scores. It is predicting almost the right classes for the test data with few false positives and negatives**"
   ]
  },
  {
   "cell_type": "markdown",
   "metadata": {},
   "source": [
    "## XGBoost Classifier\n",
    "\n",
    "Extreme Gradiant Boosting algorithm is an tree ensemble model which is optimized to predict quicker by utilizing available resources and takes care of over fitting. "
   ]
  },
  {
   "cell_type": "code",
   "execution_count": 41,
   "metadata": {},
   "outputs": [
    {
     "name": "stdout",
     "output_type": "stream",
     "text": [
      "Accuracy: 0.9417596034696406\n",
      "                 precision    recall  f1-score   support\n",
      "\n",
      "     Agreements       1.00      0.86      0.92       163\n",
      "          Deeds       0.98      0.97      0.97       166\n",
      "          Taxes       0.79      0.99      0.88       151\n",
      "Human Resources       0.98      0.97      0.98       151\n",
      "     Valuations       0.99      0.93      0.96       176\n",
      "\n",
      "      micro avg       0.94      0.94      0.94       807\n",
      "      macro avg       0.95      0.94      0.94       807\n",
      "   weighted avg       0.95      0.94      0.94       807\n",
      "\n",
      "Confusion matrix:\n",
      " [[140   0  23   0   0]\n",
      " [  0 161   3   2   0]\n",
      " [  0   0 149   1   1]\n",
      " [  0   0   4 147   0]\n",
      " [  0   4   9   0 163]]\n"
     ]
    },
    {
     "data": {
      "image/png": "[encoded data removed]",
      "text/plain": [
       "<Figure size 432x288 with 2 Axes>"
      ]
     },
     "metadata": {
      "needs_background": "light"
     },
     "output_type": "display_data"
    }
   ],
   "source": [
    "from xgboost import XGBClassifier\n",
    "from sklearn.metrics import accuracy_score\n",
    "xgb = XGBClassifier()\n",
    "xgb.fit(X_train, y_train)\n",
    "y_pred = xgb.predict(X_test)\n",
    "\n",
    "accuracy = accuracy_score(y_test, y_pred)\n",
    "print(\"Accuracy: %s\" % (accuracy))\n",
    "print(classification_report(y_test, y_pred,target_names=my_tags))\n",
    "\n",
    "conf_mat = confusion_matrix(y_true=y_test, y_pred=y_pred)\n",
    "print('Confusion matrix:\\n', conf_mat)\n",
    "\n",
    "labels = ['Agreement', 'Deeds','Human Resources','Taxes','Valuations']\n",
    "fig = plt.figure()\n",
    "ax = fig.add_subplot(111)\n",
    "cax = ax.matshow(conf_mat, cmap=plt.cm.Blues)\n",
    "fig.colorbar(cax)\n",
    "ax.set_xticklabels([''] + labels)\n",
    "ax.set_yticklabels([''] + labels)\n",
    "plt.xlabel('Predicted')\n",
    "plt.ylabel('Expected')\n",
    "plt.show()"
   ]
  },
  {
   "cell_type": "code",
   "execution_count": 55,
   "metadata": {},
   "outputs": [],
   "source": [
    "pickle.dump(xgb, open('xgbmodel.pkl','wb'))"
   ]
  },
  {
   "cell_type": "markdown",
   "metadata": {},
   "source": [
    "**XGBoost classifier gives an accuracy of around 94% and performs well for classification with good F1 scores. It is predicting almost the right classes for the test data with few false positives and negatives**"
   ]
  },
  {
   "cell_type": "markdown",
   "metadata": {},
   "source": [
    "## Word2Vec model\n",
    "\n",
    "Word2vec is a neural network based model which generates vectors for words based on their frequent co-occurances with each other. It is more useful for finding contents and its sub-contents wherever necessary and works great when dealing with large datasets."
   ]
  },
  {
   "cell_type": "markdown",
   "metadata": {},
   "source": [
    "### Here I am using a 300 dimension negative google news pre-trained word vectors for vectorization of words in the document"
   ]
  },
  {
   "cell_type": "code",
   "execution_count": 42,
   "metadata": {},
   "outputs": [],
   "source": [
    "import gensim\n",
    "from gensim.models import Word2Vec\n",
    "wv = gensim.models.KeyedVectors.load_word2vec_format(\"GoogleNews-vectors-negative300.bin.gz\", binary=True) # Pre-trained word vectors\n",
    "wv.init_sims(replace=True)"
   ]
  },
  {
   "cell_type": "code",
   "execution_count": 45,
   "metadata": {},
   "outputs": [
    {
     "data": {
      "text/plain": [
       "2005"
      ]
     },
     "execution_count": 45,
     "metadata": {},
     "output_type": "execute_result"
    }
   ],
   "source": [
    "finalframe['Text_Data'].apply(lambda x: len(x.split(' '))).sum()\n",
    "finalframe['Identifiers'].apply(lambda x: len(x.split(' '))).sum()"
   ]
  },
  {
   "cell_type": "code",
   "execution_count": 46,
   "metadata": {},
   "outputs": [],
   "source": [
    "# Defining function to assign vectors from pre-trained model\n",
    "def word_averaging(wv, words):\n",
    "    all_words, mean = set(), []\n",
    "    \n",
    "    for word in words:\n",
    "        if isinstance(word, np.ndarray):\n",
    "            mean.append(word)\n",
    "        elif word in wv.vocab:\n",
    "            mean.append(wv.syn0norm[wv.vocab[word].index])\n",
    "            all_words.add(wv.vocab[word].index)\n",
    "\n",
    "    if not mean:\n",
    "        return np.zeros(wv.vector_size,)\n",
    "\n",
    "    mean = gensim.matutils.unitvec(np.array(mean).mean(axis=0)).astype(np.float32)\n",
    "    return mean\n",
    "\n",
    "def  word_averaging_list(wv, text_list):\n",
    "    return np.vstack([word_averaging(wv, post) for post in text_list ])"
   ]
  },
  {
   "cell_type": "code",
   "execution_count": 47,
   "metadata": {},
   "outputs": [],
   "source": [
    "#function to split indiviual words from the sentences\n",
    "def w2v_tokenize_text(text):\n",
    "    tokens = []\n",
    "    for sent in nltk.sent_tokenize(text, language='english'):\n",
    "        for word in nltk.word_tokenize(sent, language='english'):\n",
    "            if len(word) < 2 and len(word) > 12:\n",
    "                continue\n",
    "            tokens.append(word)\n",
    "    return tokens"
   ]
  },
  {
   "cell_type": "markdown",
   "metadata": {},
   "source": [
    "### Preparing the training and testing dataset"
   ]
  },
  {
   "cell_type": "code",
   "execution_count": 48,
   "metadata": {},
   "outputs": [],
   "source": [
    "import nltk\n",
    "train, test = train_test_split(finalframe, test_size=0.3, random_state = 42)\n",
    "test_tokenized = test.apply(lambda r: w2v_tokenize_text(r['Text_Data']), axis=1).values\n",
    "label_test_tokenized = test.apply(lambda r: w2v_tokenize_text(r['Category']), axis=1).values\n",
    "train_tokenized = train.apply(lambda r: w2v_tokenize_text(r['Text_Data']), axis=1).values"
   ]
  },
  {
   "cell_type": "code",
   "execution_count": 49,
   "metadata": {},
   "outputs": [],
   "source": [
    "import numpy as np\n",
    "X_train_word_average = word_averaging_list(wv,train_tokenized)\n",
    "X_test_word_average = word_averaging_list(wv,test_tokenized)\n",
    "y_test_word_average = word_averaging_list(wv,label_test_tokenized)"
   ]
  },
  {
   "cell_type": "markdown",
   "metadata": {},
   "source": [
    "### Building Logistic regression model for classification"
   ]
  },
  {
   "cell_type": "code",
   "execution_count": 50,
   "metadata": {},
   "outputs": [],
   "source": [
    "from sklearn.linear_model import LogisticRegression\n",
    "logreg = LogisticRegression(n_jobs=1, C=1e5)\n",
    "logreg = logreg.fit(X_train_word_average, train['Category'])\n",
    "y_pred = logreg.predict(X_test_word_average)"
   ]
  },
  {
   "cell_type": "code",
   "execution_count": 51,
   "metadata": {},
   "outputs": [
    {
     "name": "stdout",
     "output_type": "stream",
     "text": [
      "accuracy 0.9385382059800664\n",
      "                 precision    recall  f1-score   support\n",
      "\n",
      "     Agreements       0.84      0.81      0.82        26\n",
      "          Deeds       0.91      0.94      0.92        71\n",
      "          Taxes       0.92      0.98      0.95       244\n",
      "Human Resources       0.98      0.88      0.92       136\n",
      "     Valuations       0.98      0.94      0.96       125\n",
      "\n",
      "      micro avg       0.94      0.94      0.94       602\n",
      "      macro avg       0.92      0.91      0.92       602\n",
      "   weighted avg       0.94      0.94      0.94       602\n",
      "\n"
     ]
    }
   ],
   "source": [
    "from sklearn.metrics import accuracy_score, confusion_matrix\n",
    "from sklearn.metrics import classification_report\n",
    "print('accuracy %s' % accuracy_score(y_pred, test.Category))\n",
    "print(classification_report(test.Category, y_pred,target_names=my_tags))"
   ]
  },
  {
   "cell_type": "code",
   "execution_count": 52,
   "metadata": {},
   "outputs": [],
   "source": [
    "pickle.dump(logreg, open('w2vmodel.pkl','wb'))"
   ]
  },
  {
   "cell_type": "markdown",
   "metadata": {},
   "source": [
    "**Word2Vec classifier model gives an accuracy of around 94% and performs well for classification with good F1 scores. It is predicting almost the right classes for the test data with few false positives and negatives**"
   ]
  },
  {
   "cell_type": "markdown",
   "metadata": {},
   "source": [
    "## Doc2Vec Model\n",
    "\n",
    "Doc2Vec is similar to Word2Vec but instead of learning feature representations for each word, it learns for each document. In this case it provides a unique tag name for words of every page in the document. "
   ]
  },
  {
   "cell_type": "code",
   "execution_count": 56,
   "metadata": {},
   "outputs": [],
   "source": [
    "from tqdm import tqdm\n",
    "tqdm.pandas(desc=\"progress-bar\")\n",
    "from gensim.models.doc2vec import Doc2Vec, TaggedDocument\n",
    "from gensim.models import doc2vec\n",
    "from sklearn import utils\n",
    "import gensim\n",
    "import re\n",
    "from gensim.models.doc2vec import LabeledSentence"
   ]
  },
  {
   "cell_type": "code",
   "execution_count": 57,
   "metadata": {},
   "outputs": [],
   "source": [
    "def label_sentences(corpus, label_type):\n",
    "    labeled = []\n",
    "    for i, v in enumerate(corpus):\n",
    "        label = label_type + '_' + str(i)\n",
    "        labeled.append(doc2vec.TaggedDocument(v.split(), [label]))\n",
    "    return labeled"
   ]
  },
  {
   "cell_type": "code",
   "execution_count": 58,
   "metadata": {},
   "outputs": [],
   "source": [
    "LabeledSentence = gensim.models.doc2vec.LabeledSentence\n",
    "X_train, X_test, y_train, y_test = train_test_split(finalframe.Text_Data, finalframe.Category, random_state=2, test_size=0.3)\n",
    "X_train = label_sentences(X_train, 'Train')\n",
    "X_test = label_sentences(X_test, 'Test')\n",
    "all_data = X_train + X_test"
   ]
  },
  {
   "cell_type": "code",
   "execution_count": 59,
   "metadata": {},
   "outputs": [
    {
     "data": {
      "text/plain": [
       "[TaggedDocument(words=['page', 'step', 'design', 'implement', 'career', 'development', 'strategies', 'strategic', 'leadership', 'team', 'evaluated', 'bench', 'strength', 'prioritized', 'key', 'leadership', 'positions', 'attention', 'shifts', 'continued', 'career', 'development', 'employees', 'determined', 'eligible', 'potentially', 'eligible', 'positions', 'step', 'succession', 'planning', 'process', 'focused', 'helping', 'employees', 'managers', 'discuss', 'career', 'development', 'plans', 'discussing', 'encouraging', 'career', 'development', 'employees', 'important', 'part', 'management', 'however', 'purpose', 'succession', 'planning', 'increasing', 'bench', 'strength', 'specified', 'areas', 'selection', 'subset', 'employees', 'upon', 'focus', 'career', 'development', 'efforts', 'necessary', 'annual', 'performance', 'review', 'session', 'provides', 'excellent', 'opportunity', 'begin', 'discussions', 'career', 'development', 'goal', 'opportunities', 'however', 'managers', 'need', 'keep', 'mind', 'clarify', 'employee', 'goals', 'purpose', 'career', 'development', 'discussion', 'separate', 'distinct', 'justcompleted', 'performance', 'review', 'performance', 'management', 'focused', 'past', 'years', 'goals', 'objectives', 'career', 'development', 'discussion', 'focused', 'future', 'career', 'opportunities', 'upon', 'completing', 'employees', 'annual', 'performance', 'review', 'manager', 'initiate', 'discussion', 'employees', 'career', 'interests', 'well', 'career', 'development', 'options', 'possible', 'barriers', 'career', 'movement', 'managers', 'assist', 'employees', 'setting', 'appropriate', 'career', 'goals', 'providing', 'feedback', 'based', 'observation', 'assessment', 'employees', 'abilities', 'potential', 'assessment', 'based', 'actual', 'experience', 'observation', 'employees', 'knowledge', 'skills', 'experience', 'assumption', 'personal', 'biases'], tags=['Train_2']),\n",
       " TaggedDocument(words=['execute', 'deliver', 'parent', 'promptly', 'upon', 'reasonable', 'request', 'powers', 'attorney', 'authorizing', 'parent', 'extend', 'statutes', 'limitations', 'receive', 'refunds', 'negotiate', 'audit', 'settlements', 'subject', 'companys', 'rights', 'section', 'take', 'actions', 'parent', 'reasonably', 'considers', 'appropriate', 'exercising', 'control', 'rights', 'pursuant', 'section', 'article', 'viii', 'termination', 'liabilities', 'except', 'liabilities', 'attributable', 'items', 'contested', 'parent', 'company', 'pursuant', 'article', 'vii', 'notwithstanding', 'provision', 'agreement', 'liabilities', 'parent', 'company', 'agreement', 'terminate', 'tenth', 'th', 'anniversary', 'closing', 'date', 'article', 'ix', 'general', 'provisions', 'notices', 'notices', 'requests', 'demands', 'communications', 'required', 'may', 'given', 'agreement', 'writing', 'deemed', 'duly', 'given', 'received', 'personally', 'delivered', 'transmitted', 'transmitted', 'telecopy', 'electronic', 'digital', 'transmission', 'method', 'day', 'sent', 'sent', 'next', 'day', 'delivery', 'domestic', 'address', 'recognized', 'overnight', 'delivery', 'service', 'eg', 'federal', 'express', 'upon', 'receipt', 'sent', 'certified', 'registered', 'mail', 'return', 'receipt', 'requested', 'case', 'notice', 'sent', 'parent', 'co', 'weider', 'health', 'fitness', 'erwin', 'street', 'woodland', 'hills', 'ca'], tags=['Train_3'])]"
      ]
     },
     "execution_count": 59,
     "metadata": {},
     "output_type": "execute_result"
    }
   ],
   "source": [
    "X_train[2:4]"
   ]
  },
  {
   "cell_type": "code",
   "execution_count": 60,
   "metadata": {},
   "outputs": [
    {
     "name": "stderr",
     "output_type": "stream",
     "text": [
      "100%|█████████████████████████████████████████████████████████████████████████| 2005/2005 [00:00<00:00, 2011861.13it/s]\n"
     ]
    }
   ],
   "source": [
    "model_dbow = Doc2Vec()\n",
    "model_dbow.build_vocab([x for x in tqdm(all_data)])"
   ]
  },
  {
   "cell_type": "markdown",
   "metadata": {},
   "source": [
    "### Training manually to get the word vectors rather than relying on pre-trained vectors"
   ]
  },
  {
   "cell_type": "code",
   "execution_count": 61,
   "metadata": {},
   "outputs": [
    {
     "name": "stderr",
     "output_type": "stream",
     "text": [
      "100%|█████████████████████████████████████████████████████████████████████████| 2005/2005 [00:00<00:00, 2010898.98it/s]\n",
      "100%|██████████████████████████████████████████████████████████████████████████████████████| 2005/2005 [00:00<?, ?it/s]\n",
      "100%|█████████████████████████████████████████████████████████████████████████| 2005/2005 [00:00<00:00, 2008497.62it/s]\n",
      "100%|█████████████████████████████████████████████████████████████████████████| 2005/2005 [00:00<00:00, 1005810.25it/s]\n",
      "100%|██████████████████████████████████████████████████████████████████████████████████████| 2005/2005 [00:00<?, ?it/s]\n",
      "100%|█████████████████████████████████████████████████████████████████████████| 2005/2005 [00:00<00:00, 2000375.72it/s]\n",
      "100%|█████████████████████████████████████████████████████████████████████████| 2005/2005 [00:00<00:00, 2006101.98it/s]\n",
      "100%|█████████████████████████████████████████████████████████████████████████| 2005/2005 [00:00<00:00, 2015235.93it/s]\n",
      "100%|█████████████████████████████████████████████████████████████████████████| 2005/2005 [00:00<00:00, 2030808.87it/s]\n",
      "100%|█████████████████████████████████████████████████████████████████████████| 2005/2005 [00:00<00:00, 1946661.93it/s]\n",
      "100%|█████████████████████████████████████████████████████████████████████████| 2005/2005 [00:00<00:00, 2037697.97it/s]\n",
      "100%|█████████████████████████████████████████████████████████████████████████| 2005/2005 [00:00<00:00, 1022441.28it/s]\n",
      "100%|█████████████████████████████████████████████████████████████████████████| 2005/2005 [00:00<00:00, 2012342.55it/s]\n",
      "100%|██████████████████████████████████████████████████████████████████████████████████████| 2005/2005 [00:00<?, ?it/s]\n",
      "100%|██████████████████████████████████████████████████████████████████████████████████████| 2005/2005 [00:00<?, ?it/s]\n",
      "100%|█████████████████████████████████████████████████████████████████████████| 2005/2005 [00:00<00:00, 2010898.98it/s]\n",
      "100%|█████████████████████████████████████████████████████████████████████████| 2005/2005 [00:00<00:00, 2011861.13it/s]\n",
      "100%|█████████████████████████████████████████████████████████████████████████| 2005/2005 [00:00<00:00, 2008018.03it/s]\n",
      "100%|█████████████████████████████████████████████████████████████████████████| 2005/2005 [00:00<00:00, 2079520.16it/s]\n",
      "100%|██████████████████████████████████████████████████████████████████████████████████████| 2005/2005 [00:00<?, ?it/s]\n",
      "100%|██████████████████████████████████████████████████████████████████████████████████████| 2005/2005 [00:00<?, ?it/s]\n",
      "100%|█████████████████████████████████████████████████████████████████████████| 2005/2005 [00:00<00:00, 2036710.95it/s]\n",
      "100%|█████████████████████████████████████████████████████████████████████████| 2005/2005 [00:00<00:00, 2038685.94it/s]\n",
      "100%|█████████████████████████████████████████████████████████████████████████| 2005/2005 [00:00<00:00, 2009937.74it/s]\n",
      "100%|█████████████████████████████████████████████████████████████████████████| 2005/2005 [00:00<00:00, 2008977.43it/s]\n",
      "100%|█████████████████████████████████████████████████████████████████████████| 2005/2005 [00:00<00:00, 1993263.69it/s]\n",
      "100%|█████████████████████████████████████████████████████████████████████████| 2005/2005 [00:00<00:00, 2087780.42it/s]\n",
      "100%|██████████████████████████████████████████████████████████████████████████| 2005/2005 [00:00<00:00, 985882.71it/s]\n",
      "100%|█████████████████████████████████████████████████████████████████████████| 2005/2005 [00:00<00:00, 2007538.68it/s]\n",
      "100%|█████████████████████████████████████████████████████████████████████████| 2005/2005 [00:00<00:00, 2094540.35it/s]\n",
      "100%|█████████████████████████████████████████████████████████████████████████| 2005/2005 [00:00<00:00, 2033755.63it/s]\n",
      "100%|██████████████████████████████████████████████████████████████████████████| 2005/2005 [00:00<00:00, 993687.76it/s]\n",
      "100%|█████████████████████████████████████████████████████████████████████████| 2005/2005 [00:00<00:00, 2009937.74it/s]\n",
      "100%|██████████████████████████████████████████████████████████████████████████████████████| 2005/2005 [00:00<?, ?it/s]\n",
      "100%|█████████████████████████████████████████████████████████████████████████| 2005/2005 [00:00<00:00, 1987610.38it/s]\n",
      "100%|█████████████████████████████████████████████████████████████████████████| 2005/2005 [00:00<00:00, 1969456.56it/s]\n",
      "100%|█████████████████████████████████████████████████████████████████████████| 2005/2005 [00:00<00:00, 2015235.93it/s]\n",
      "100%|█████████████████████████████████████████████████████████████████████████| 2005/2005 [00:00<00:00, 1008463.79it/s]\n",
      "100%|█████████████████████████████████████████████████████████████████████████| 2005/2005 [00:00<00:00, 2032281.18it/s]\n",
      "100%|█████████████████████████████████████████████████████████████████████████| 2005/2005 [00:00<00:00, 2041655.63it/s]\n",
      "100%|█████████████████████████████████████████████████████████████████████████| 2005/2005 [00:00<00:00, 2012824.20it/s]\n",
      "100%|█████████████████████████████████████████████████████████████████████████| 2005/2005 [00:00<00:00, 2005145.33it/s]\n",
      "100%|█████████████████████████████████████████████████████████████████████████| 2005/2005 [00:00<00:00, 2015235.93it/s]\n",
      "100%|█████████████████████████████████████████████████████████████████████████| 2005/2005 [00:00<00:00, 1977793.87it/s]\n",
      "100%|█████████████████████████████████████████████████████████████████████████| 2005/2005 [00:00<00:00, 2096106.56it/s]\n"
     ]
    }
   ],
   "source": [
    "for epoch in range(45):\n",
    "    model_dbow.train(utils.shuffle([x for x in tqdm(all_data)]), total_examples=len(all_data), epochs=1)\n",
    "    model_dbow.alpha -= 0.002\n",
    "    model_dbow.min_alpha = model_dbow.alpha"
   ]
  },
  {
   "cell_type": "code",
   "execution_count": 62,
   "metadata": {},
   "outputs": [],
   "source": [
    "def get_vectors(model, corpus_size, vectors_size, vectors_type):\n",
    "    vectors = np.zeros((corpus_size, vectors_size))\n",
    "    for i in range(0, corpus_size):\n",
    "        prefix = vectors_type + '_' + str(i)\n",
    "        vectors[i] = model.docvecs[prefix]\n",
    "    return vectors"
   ]
  },
  {
   "cell_type": "code",
   "execution_count": 63,
   "metadata": {},
   "outputs": [],
   "source": [
    "train_vectors_dbow = get_vectors(model_dbow, len(X_train), 100, 'Train')\n",
    "test_vectors_dbow = get_vectors(model_dbow, len(X_test), 100, 'Test')"
   ]
  },
  {
   "cell_type": "markdown",
   "metadata": {},
   "source": [
    "### Building a logistic regression model for classification using Doc2Vec"
   ]
  },
  {
   "cell_type": "code",
   "execution_count": 64,
   "metadata": {},
   "outputs": [
    {
     "data": {
      "text/plain": [
       "LogisticRegression(C=1.0, class_weight=None, dual=False, fit_intercept=True,\n",
       "          intercept_scaling=1, max_iter=100, multi_class='warn',\n",
       "          n_jobs=None, penalty='l2', random_state=None, solver='warn',\n",
       "          tol=0.0001, verbose=0, warm_start=False)"
      ]
     },
     "execution_count": 64,
     "metadata": {},
     "output_type": "execute_result"
    }
   ],
   "source": [
    "logreg = LogisticRegression()\n",
    "logreg.fit(train_vectors_dbow, y_train)"
   ]
  },
  {
   "cell_type": "code",
   "execution_count": 65,
   "metadata": {},
   "outputs": [],
   "source": [
    "logreg = logreg.fit(train_vectors_dbow, y_train)\n",
    "y_pred = logreg.predict(test_vectors_dbow)"
   ]
  },
  {
   "cell_type": "code",
   "execution_count": 66,
   "metadata": {},
   "outputs": [
    {
     "name": "stdout",
     "output_type": "stream",
     "text": [
      "accuracy 0.840531561461794\n",
      "                 precision    recall  f1-score   support\n",
      "\n",
      "     Agreements       1.00      0.65      0.79        34\n",
      "          Deeds       0.85      0.56      0.67        63\n",
      "          Taxes       0.78      0.98      0.87       258\n",
      "Human Resources       0.95      0.85      0.90       126\n",
      "     Valuations       0.88      0.73      0.80       121\n",
      "\n",
      "      micro avg       0.84      0.84      0.84       602\n",
      "      macro avg       0.89      0.75      0.80       602\n",
      "   weighted avg       0.85      0.84      0.84       602\n",
      "\n"
     ]
    }
   ],
   "source": [
    "print('accuracy %s' % accuracy_score(y_pred, y_test))\n",
    "print(classification_report(y_test, y_pred,target_names=my_tags))"
   ]
  },
  {
   "cell_type": "markdown",
   "metadata": {},
   "source": [
    "**Doc2Vec doesn't perform well when dealing with less textual data but it can perform well on huge data sets, like in enterprises**"
   ]
  },
  {
   "cell_type": "markdown",
   "metadata": {},
   "source": [
    "## Demo of the trained model in action\n",
    "As the different models have been trained we have to test it out on a random document to see how the model classifies. The document should not belong in the dataset used to train or test."
   ]
  },
  {
   "cell_type": "code",
   "execution_count": 79,
   "metadata": {},
   "outputs": [],
   "source": [
    "#Loading the saved model and a random PDF file to test classification\n",
    "savedmodel = pickle.load(open('nbmodel.pkl','rb'))\n",
    "demofile = '2kvIrB7fXK3MSY6fIorOhe.pdf'"
   ]
  },
  {
   "cell_type": "code",
   "execution_count": 80,
   "metadata": {},
   "outputs": [],
   "source": [
    "# Parsing through the sample document and extracting the textual data\n",
    "def convert2txt():\n",
    "    alltexts = []\n",
    "    with open(demofile, 'rb') as fh:\n",
    "        rsrcmgr = PDFResourceManager()\n",
    "        retstr = StringIO()\n",
    "        codec = 'utf-8'\n",
    "        laparams = LAParams()\n",
    "        device = TextConverter(rsrcmgr, retstr, codec=codec, laparams=laparams)\n",
    "        fp = open(demofile, 'rb')\n",
    "        interpreter = PDFPageInterpreter(rsrcmgr, device)\n",
    "        password = \"\"\n",
    "        maxpages = 0\n",
    "        caching = True\n",
    "        pagenos=set()\n",
    "\n",
    "        for page in PDFPage.get_pages(fp, pagenos, maxpages=maxpages, password=password,caching=caching, check_extractable=True):\n",
    "            interpreter.process_page(page)\n",
    "\n",
    "        text = retstr.getvalue()\n",
    "        alltexts.append(text)\n",
    "        fp.close()\n",
    "        device.close()\n",
    "        retstr.close()\n",
    "        \n",
    "    return alltexts "
   ]
  },
  {
   "cell_type": "code",
   "execution_count": 81,
   "metadata": {},
   "outputs": [],
   "source": [
    "textdata = convert2txt()"
   ]
  },
  {
   "cell_type": "code",
   "execution_count": 82,
   "metadata": {},
   "outputs": [],
   "source": [
    "# Feature engineering to get the data in right format\n",
    "dfdemo = pd.DataFrame(textdata, columns = ['Data'])\n",
    "dfdemo['Data'] = dfdemo['Data'].apply(lambda x: \" \".join(x.lower() for x in x.split())) # lower case conversion\n",
    "dfdemo['Data'] = dfdemo['Data'].str.replace('[^\\w\\s]','') # getting rid of special characters\n",
    "dfdemo['Data'] = dfdemo['Data'].str.replace('\\d+', '') # removing numeric values from between the words\n",
    "dfdemo['Data'] = dfdemo['Data'].apply(lambda x: x.translate(string.digits)) # removing numerical numbers\n",
    "stop = stopwords.words('english')\n",
    "dfdemo['Data'] = dfdemo['Data'].apply(lambda x: \" \".join(x for x in x.split() if x not in stop)) #removing stop words\n",
    "stemmer = WordNetLemmatizer()\n",
    "dfdemo['Data'] = [stemmer.lemmatize(word) for word in dfdemo['Data']]"
   ]
  },
  {
   "cell_type": "code",
   "execution_count": 83,
   "metadata": {},
   "outputs": [
    {
     "data": {
      "text/html": [
       "<div>\n",
       "<style scoped>\n",
       "    .dataframe tbody tr th:only-of-type {\n",
       "        vertical-align: middle;\n",
       "    }\n",
       "\n",
       "    .dataframe tbody tr th {\n",
       "        vertical-align: top;\n",
       "    }\n",
       "\n",
       "    .dataframe thead th {\n",
       "        text-align: right;\n",
       "    }\n",
       "</style>\n",
       "<table border=\"1\" class=\"dataframe\">\n",
       "  <thead>\n",
       "    <tr style=\"text-align: right;\">\n",
       "      <th></th>\n",
       "      <th>0</th>\n",
       "      <th>1</th>\n",
       "      <th>2</th>\n",
       "      <th>3</th>\n",
       "      <th>4</th>\n",
       "      <th>5</th>\n",
       "      <th>6</th>\n",
       "      <th>7</th>\n",
       "      <th>8</th>\n",
       "      <th>9</th>\n",
       "      <th>...</th>\n",
       "      <th>990</th>\n",
       "      <th>991</th>\n",
       "      <th>992</th>\n",
       "      <th>993</th>\n",
       "      <th>994</th>\n",
       "      <th>995</th>\n",
       "      <th>996</th>\n",
       "      <th>997</th>\n",
       "      <th>998</th>\n",
       "      <th>999</th>\n",
       "    </tr>\n",
       "  </thead>\n",
       "  <tbody>\n",
       "    <tr>\n",
       "      <th>0</th>\n",
       "      <td>0.00286</td>\n",
       "      <td>0.00286</td>\n",
       "      <td>0.00286</td>\n",
       "      <td>0.00286</td>\n",
       "      <td>0.00286</td>\n",
       "      <td>0.00858</td>\n",
       "      <td>0.00572</td>\n",
       "      <td>0.00286</td>\n",
       "      <td>0.01144</td>\n",
       "      <td>0.01716</td>\n",
       "      <td>...</td>\n",
       "      <td>0.051481</td>\n",
       "      <td>0.048621</td>\n",
       "      <td>0.00286</td>\n",
       "      <td>0.00858</td>\n",
       "      <td>0.00286</td>\n",
       "      <td>0.01144</td>\n",
       "      <td>0.01144</td>\n",
       "      <td>0.034321</td>\n",
       "      <td>0.00286</td>\n",
       "      <td>0.031461</td>\n",
       "    </tr>\n",
       "  </tbody>\n",
       "</table>\n",
       "<p>1 rows × 1000 columns</p>\n",
       "</div>"
      ],
      "text/plain": [
       "       0        1        2        3        4        5        6        7    \\\n",
       "0  0.00286  0.00286  0.00286  0.00286  0.00286  0.00858  0.00572  0.00286   \n",
       "\n",
       "       8        9      ...          990       991      992      993      994  \\\n",
       "0  0.01144  0.01716    ...     0.051481  0.048621  0.00286  0.00858  0.00286   \n",
       "\n",
       "       995      996       997      998       999  \n",
       "0  0.01144  0.01144  0.034321  0.00286  0.031461  \n",
       "\n",
       "[1 rows x 1000 columns]"
      ]
     },
     "execution_count": 83,
     "metadata": {},
     "output_type": "execute_result"
    }
   ],
   "source": [
    "# Assigning vectors to the input data\n",
    "tfidfconverter = TfidfVectorizer(max_features=1000, stop_words=stopwords.words('english'))\n",
    "inputs = pd.DataFrame(tfidfconverter.fit_transform(dfdemo['Data']).toarray())\n",
    "inputs"
   ]
  },
  {
   "cell_type": "markdown",
   "metadata": {},
   "source": [
    "### Prediction on the sample file"
   ]
  },
  {
   "cell_type": "code",
   "execution_count": 84,
   "metadata": {},
   "outputs": [
    {
     "data": {
      "text/plain": [
       "array(['Human Resources'], dtype=object)"
      ]
     },
     "execution_count": 84,
     "metadata": {},
     "output_type": "execute_result"
    }
   ],
   "source": [
    "# Predicting the category of the input file with the help of trained model\n",
    "\n",
    "output_category = savedmodel.predict(inputs)\n",
    "#Comment the next line if you are testing word2vec model as it doesn't require transformation\n",
    "output_category = (labelencoder.inverse_transform((output_category)))\n",
    "output_category"
   ]
  },
  {
   "cell_type": "markdown",
   "metadata": {},
   "source": [
    "## Conclusion"
   ]
  },
  {
   "cell_type": "markdown",
   "metadata": {},
   "source": [
    "The saved model has correctly predicted the class of the input file. The saved model was Naive Bayes Classifier which had predicting accuracy of around 93% with a good precision for all classes above 90%. \n",
    "Different classification models can be trained for this task and comapred for their perfomances. "
   ]
  }
 ],
 "metadata": {
  "kernelspec": {
   "display_name": "Python 3",
   "language": "python",
   "name": "python3"
  },
  "language_info": {
   "codemirror_mode": {
    "name": "ipython",
    "version": 3
   },
   "file_extension": ".py",
   "mimetype": "text/x-python",
   "name": "python",
   "nbconvert_exporter": "python",
   "pygments_lexer": "ipython3",
   "version": "3.7.1"
  }
 },
 "nbformat": 4,
 "nbformat_minor": 2
}
